{
 "cells": [
  {
   "cell_type": "code",
   "execution_count": 4,
   "metadata": {
    "collapsed": true
   },
   "outputs": [],
   "source": [
    "raw = [824,829,215406]"
   ]
  },
  {
   "cell_type": "code",
   "execution_count": 5,
   "metadata": {
    "collapsed": false
   },
   "outputs": [],
   "source": [
    "def encode_vb(raw):\n",
    "    vb_code = ''\n",
    "    for index,decimal in enumerate(raw):\n",
    "        if index == 0:\n",
    "            binary = \"{0:b}\".format(decimal)\n",
    "        else:\n",
    "            binary = \"{0:b}\".format(raw[index]-raw[index-1])\n",
    "        code = binary\n",
    "        if len(binary) <= 7:\n",
    "            ##print('less than 7 bits')\n",
    "            lower_bit = binary.zfill(7)\n",
    "            code = '1' + lower_bit\n",
    "        else:\n",
    "            ##print('more than 7 bits')\n",
    "            first_lower_seven_bits = True\n",
    "            while True:\n",
    "                ##print('Length is {}'.format(len(binary)))\n",
    "                if len(binary) < 7:\n",
    "                    code = '0' + binary[-7:].zfill(7) + code\n",
    "                    binary = binary[:-7]\n",
    "                    break\n",
    "                if first_lower_seven_bits == True:\n",
    "                    code = '1' + binary[-7:]\n",
    "                    binary = binary[:-7]\n",
    "                    first_lower_seven_bits = False\n",
    "                else:\n",
    "                    code = '0' + binary[-7:].zfill(7) + code\n",
    "                    binary = binary[:-7]\n",
    "        print('The vb code for {} is {}'.format(decimal,code))\n",
    "        vb_code = vb_code + code\n",
    "    return vb_code"
   ]
  },
  {
   "cell_type": "code",
   "execution_count": 6,
   "metadata": {
    "collapsed": false
   },
   "outputs": [
    {
     "name": "stdout",
     "output_type": "stream",
     "text": [
      "The vb code for 824 is 0000011010111000\n",
      "The vb code for 829 is 10000101\n",
      "The vb code for 215406 is 000011010000110010110001\n",
      "The final vb code is 000001101011100010000101000011010000110010110001\n"
     ]
    }
   ],
   "source": [
    "print('The final vb code is ' + encode_vb(raw))"
   ]
  },
  {
   "cell_type": "code",
   "execution_count": 7,
   "metadata": {
    "collapsed": false
   },
   "outputs": [],
   "source": [
    "def decode_vb(raw):\n",
    "    first_byte_indicator = True\n",
    "    binary = ''\n",
    "    result = []\n",
    "    while raw is not '':       \n",
    "        code = raw[:8]\n",
    "        if first_byte_indicator == True:\n",
    "            if code[0] == '1':\n",
    "                binary = binary + code[1:]\n",
    "                result.append(int(binary,2))\n",
    "                raw = raw[8:]\n",
    "                binary = ''\n",
    "                first_byte_indicator = False\n",
    "            elif code[0] == '0':\n",
    "                binary = binary + code[1:]\n",
    "                raw = raw[8:]\n",
    "        elif first_byte_indicator == False:\n",
    "            if code[0] == '1':\n",
    "                binary = binary + code[1:]\n",
    "                result.append(result[-1] + int(binary,2))\n",
    "                binary = ''\n",
    "                raw = raw[8:]\n",
    "            elif code[0] == '0':\n",
    "                binary = binary + code[1:]\n",
    "                raw = raw[8:]\n",
    "    return result"
   ]
  },
  {
   "cell_type": "code",
   "execution_count": 8,
   "metadata": {
    "collapsed": false
   },
   "outputs": [
    {
     "name": "stdout",
     "output_type": "stream",
     "text": [
      "After decoding, the document id is [824, 829, 215406]\n"
     ]
    }
   ],
   "source": [
    "print('After decoding, the document id is {}'.format(decode_vb('000001101011100010000101000011010000110010110001')))"
   ]
  }
 ],
 "metadata": {
  "anaconda-cloud": {},
  "kernelspec": {
   "display_name": "Python [Root]",
   "language": "python",
   "name": "Python [Root]"
  },
  "language_info": {
   "codemirror_mode": {
    "name": "ipython",
    "version": 3
   },
   "file_extension": ".py",
   "mimetype": "text/x-python",
   "name": "python",
   "nbconvert_exporter": "python",
   "pygments_lexer": "ipython3",
   "version": "3.5.2"
  }
 },
 "nbformat": 4,
 "nbformat_minor": 0
}
