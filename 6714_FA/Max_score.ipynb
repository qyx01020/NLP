{
 "cells": [
  {
   "cell_type": "code",
   "execution_count": 1,
   "metadata": {
    "collapsed": true
   },
   "outputs": [],
   "source": [
    "#DEBUG = True\n",
    "DEBUG = False\n",
    "\n",
    "def p(msg):\n",
    "    if DEBUG:\n",
    "        print(\".. {}\".format(msg)) "
   ]
  },
  {
   "cell_type": "markdown",
   "metadata": {},
   "source": [
    "# The InvertedList class\n",
    "We implement this class which encapsulates all the important operations one can perform on an inverted list."
   ]
  },
  {
   "cell_type": "code",
   "execution_count": 2,
   "metadata": {
    "collapsed": true
   },
   "outputs": [],
   "source": [
    "from pprint import pprint\n",
    "from bisect import *\n",
    "\n",
    "class InvertedList:\n",
    "    def __init__(self, l):\n",
    "        self.data = l[:] # make a copy\n",
    "        self.cur = 0\n",
    "\n",
    "    def get_list(self):\n",
    "        return self.data\n",
    "    \n",
    "    def get_max_df(self):\n",
    "        current_df = 0\n",
    "        while not self.eol():          \n",
    "            if self.elem() > current_df:\n",
    "                current_df = self.elem()\n",
    "            self.next()\n",
    "        return current_df\n",
    " \n",
    "    def eol(self):\n",
    "        # we use cur == len(list) to indicate EOL\n",
    "        return False if self.cur < len(self.data) else True\n",
    "    \n",
    "    def next(self, val = 1):\n",
    "        # does not allow cur to be out-of-range, but use len(list) to indicate EOL\n",
    "        self.cur = min(self.cur + val, len(self.data)) \n",
    "            \n",
    "    def elem(self):\n",
    "        if self.eol():\n",
    "            return None\n",
    "        else: \n",
    "            return self.data[self.cur]\n",
    "\n",
    "    def peek(self, pos):\n",
    "        if pos < len(self.data):\n",
    "            return self.data[pos]\n",
    "        else:\n",
    "            return None\n",
    "        \n",
    "    def reset(self):\n",
    "        self.cur = 0\n",
    "    \n",
    "    def dump(self):\n",
    "        print(\"* {} : {} (cur = {})\".format(self.data[:self.cur], self.data[self.cur:], self.cur))\n",
    "        \n",
    "    def skip_to(self, val):\n",
    "        # move the cursor to the first element no smaller than `val`\n",
    "        while not self.eol() and self.elem() < val:\n",
    "            self.next()               "
   ]
  },
  {
   "cell_type": "markdown",
   "metadata": {},
   "source": [
    "Now we implement MAX Score algorithm. Assume the idf for all terms is 1.0, and call a maxscore on each InvertedList object *within* the algorithm. The input is:\n",
    "- a list of InvertedList objects\n",
    "- k: which specifies how many top results we want."
   ]
  },
  {
   "cell_type": "code",
   "execution_count": 11,
   "metadata": {
    "collapsed": false
   },
   "outputs": [],
   "source": [
    "from heapq import heappush, heappop\n",
    "def Max_score(RTList,k):\n",
    "    ## Required posting list(RTList),only retrieve the documents in the posting lists of RTList\n",
    "    u_list = []\n",
    "    PTList = RTList\n",
    "    top_k = []\n",
    "    ## Initialize the top_k heap with (-1, -1), the structure in top_k is (doc_id, score)\n",
    "    initial_value = ()\n",
    "    heappush(top_k, (-1,-1))\n",
    "    print(top_k)\n",
    "    current_score = []\n",
    "    for list in RTList:\n",
    "        u_list.append(list.get_max_df())\n",
    "        list.reset()\n",
    "    print(u_list)\n",
    "    Flag = True\n",
    "    i = 1\n",
    "    ## continue scan the invertedlist until exhausting all documents in L1(L1 has the minimal amount of documents)\n",
    "    while Flag == True:\n",
    "        doc_id = 0       \n",
    "        if u_list[-i] < top_k[0][0]:\n",
    "            RTList = RTList[:-1]\n",
    "            i += 1\n",
    "        for obj in PTList:\n",
    "            doc_id = obj.cur\n",
    "            current_score.append(obj.elem())\n",
    "            print(obj.elem())\n",
    "            obj.next()\n",
    "            if obj.eol():\n",
    "                Flag = False\n",
    "        print('Current_score is {}'.format(current_score))\n",
    "        print(len(top_k),k,doc_id)\n",
    "        ## while the top_k list is not full, just append current score directly\n",
    "        if len(top_k) < k:\n",
    "            current_doc_score = sum(current_score)\n",
    "            heappush(top_k,(current_doc_score,doc_id))\n",
    "            current_score = []\n",
    "            print('The top{} results are {}'.format(k,top_k))\n",
    "            continue\n",
    "        ## while the top_k list is full, compare the top_k score with current score and excute corresponding algorithm\n",
    "        elif len(top_k) == k:\n",
    "            if sum(current_score) > top_k[0][0]:\n",
    "                heappop(top_k)\n",
    "                current_doc_score = sum(current_score)\n",
    "                heappush(top_k,(current_doc_score,doc_id))\n",
    "                current_score = []\n",
    "                print('The top{} results are {}'.format(k,top_k))\n",
    "                continue\n",
    "        current_score = []\n",
    "        print('The top{} results are {}'.format(k,top_k))"
   ]
  },
  {
   "cell_type": "markdown",
   "metadata": {},
   "source": [
    "Test MAX algorithm"
   ]
  },
  {
   "cell_type": "code",
   "execution_count": 16,
   "metadata": {
    "collapsed": false
   },
   "outputs": [
    {
     "name": "stdout",
     "output_type": "stream",
     "text": [
      "[(-1, -1)]\n",
      "[8, 4, 2]\n",
      "2\n",
      "1\n",
      "0\n",
      "Current_score is [2, 1, 0]\n",
      "1 2 0\n",
      "The top2 results are [(-1, -1), (3, 0)]\n",
      "8\n",
      "0\n",
      "1\n",
      "Current_score is [8, 0, 1]\n",
      "2 2 1\n",
      "The top2 results are [(3, 0), (9, 1)]\n",
      "0\n",
      "0\n",
      "2\n",
      "Current_score is [0, 0, 2]\n",
      "2 2 2\n",
      "The top2 results are [(3, 0), (9, 1)]\n",
      "2\n",
      "4\n",
      "1\n",
      "Current_score is [2, 4, 1]\n",
      "2 2 3\n",
      "The top2 results are [(7, 3), (9, 1)]\n"
     ]
    }
   ],
   "source": [
    "a = InvertedList([2, 8, 0, 2])                        ## u_a = 8 \n",
    "b = InvertedList([1, 0, 0, 4, 0, 0, 0, 0, 0, 1, 4])   ## u_b = 4\n",
    "c = InvertedList([0, 1, 2, 1, 0, 0, 0, 0, 0, 2, 2])   ## u_c = 2\n",
    "inverted_list_obj = [a,b,c]\n",
    "Max_score(inverted_list_obj,2)"
   ]
  },
  {
   "cell_type": "code",
   "execution_count": null,
   "metadata": {
    "collapsed": true
   },
   "outputs": [],
   "source": []
  }
 ],
 "metadata": {
  "anaconda-cloud": {},
  "kernelspec": {
   "display_name": "Python [Root]",
   "language": "python",
   "name": "Python [Root]"
  },
  "language_info": {
   "codemirror_mode": {
    "name": "ipython",
    "version": 3
   },
   "file_extension": ".py",
   "mimetype": "text/x-python",
   "name": "python",
   "nbconvert_exporter": "python",
   "pygments_lexer": "ipython3",
   "version": "3.5.2"
  }
 },
 "nbformat": 4,
 "nbformat_minor": 0
}
