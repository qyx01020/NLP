{
 "cells": [
  {
   "cell_type": "code",
   "execution_count": 1,
   "metadata": {
    "collapsed": true
   },
   "outputs": [],
   "source": [
    "from heapq import heappush, heappop, merge\n",
    "# documentation: https://docs.python.org/3.4/library/heapq.html\n",
    "from math import ceil\n",
    "\n",
    "## the heap is essentially a min-heap\n",
    "\n",
    "DEBUG = True\n",
    "\n",
    "def p(msg):\n",
    "    if DEBUG:\n",
    "        print('.. {}'.format(msg))\n",
    "\n",
    "## making use of the heapq.merge() function to simulate the in-memory heap based merging\n",
    "## (see source at https://fossies.org/dox/Python-3.5.2/heapq_8py_source.html)\n",
    "def merge_runs(list_of_runs):\n",
    "    return list(merge(*list_of_runs))"
   ]
  },
  {
   "cell_type": "code",
   "execution_count": 2,
   "metadata": {
    "collapsed": false
   },
   "outputs": [
    {
     "name": "stdout",
     "output_type": "stream",
     "text": [
      "[15, 19, 46, 73, 93] [26, 33, 64, 73, 80] [22, 77]\n",
      "[15, 19, 22, 26, 33, 46, 64, 73, 73, 77, 80, 93]\n"
     ]
    }
   ],
   "source": [
    "import random\n",
    "\n",
    "random.seed(1999)\n",
    "\n",
    "n1 = n2 = 5\n",
    "n3 = 2\n",
    "\n",
    "run1 = sorted([random.randint(1, 100) for _ in range(n1)])\n",
    "run2 = sorted([random.randint(1, 100) for _ in range(n2)])\n",
    "run3 = sorted([random.randint(1, 100) for _ in range(n3)])\n",
    "\n",
    "print(run1, run2, run3)\n",
    "\n",
    "runs = [run1, run2, run3]\n",
    "new_run = merge_runs(runs)\n",
    "print(new_run)"
   ]
  },
  {
   "cell_type": "raw",
   "metadata": {},
   "source": [
    "Now define the BSBI algorithm, the input parameters are:\n",
    "- List of List of negative integers: we use list of negative integers to model a document (so that we do not need to worry about keeping the token to ID mapping\n",
    "- M: is the number of documents the algorithms reads at a time."
   ]
  },
  {
   "cell_type": "code",
   "execution_count": 9,
   "metadata": {
    "collapsed": false
   },
   "outputs": [],
   "source": [
    "def BSBI(raw,M):\n",
    "    merged_runs = []\n",
    "    current_runs = []\n",
    "    final_run = []\n",
    "    count = M\n",
    "    startAt = 0\n",
    "    for i in range(startAt,len(raw)):\n",
    "        current_runs.append(raw[i])\n",
    "        count -= 1\n",
    "        if count == 0 or i == (len(raw) - 1):\n",
    "            merged_runs.append(list(sorted(merge(*current_runs))))\n",
    "            print(merged_runs)\n",
    "            current_runs = []\n",
    "            count = M\n",
    "    print(merged_runs)\n",
    "    final_run = sorted(merge(*merged_runs),reverse=True)\n",
    "    print(final_run)"
   ]
  },
  {
   "cell_type": "raw",
   "metadata": {},
   "source": [
    "Test the BSBI algorithm, you can change the M to see different outputs"
   ]
  },
  {
   "cell_type": "code",
   "execution_count": 13,
   "metadata": {
    "collapsed": false
   },
   "outputs": [
    {
     "name": "stdout",
     "output_type": "stream",
     "text": [
      "[[-11, -9, -4, -3, -2, -1]]\n",
      "[[-11, -9, -4, -3, -2, -1], [-8, -7, -7, -6, -5, -5]]\n",
      "[[-11, -9, -4, -3, -2, -1], [-8, -7, -7, -6, -5, -5], [-12, -10]]\n",
      "[[-11, -9, -4, -3, -2, -1], [-8, -7, -7, -6, -5, -5], [-12, -10]]\n",
      "[-1, -2, -3, -4, -5, -5, -6, -7, -7, -8, -9, -10, -11, -12]\n",
      "[[-4, -3, -2, -1]]\n",
      "[[-4, -3, -2, -1], [-11, -9, -7, -5]]\n",
      "[[-4, -3, -2, -1], [-11, -9, -7, -5], [-8, -7, -6, -5]]\n",
      "[[-4, -3, -2, -1], [-11, -9, -7, -5], [-8, -7, -6, -5], [-12, -10]]\n",
      "[[-4, -3, -2, -1], [-11, -9, -7, -5], [-8, -7, -6, -5], [-12, -10]]\n",
      "[-1, -2, -3, -4, -5, -5, -6, -7, -7, -8, -9, -10, -11, -12]\n"
     ]
    }
   ],
   "source": [
    "raw_runs = [[-1,-3],[-2,-4],[-9,-11],[-5,-7],[-6,-8],[-5,-7],[-10,-12]]\n",
    "BSBI(raw_runs,3)\n",
    "BSBI(raw_runs,2)"
   ]
  },
  {
   "cell_type": "code",
   "execution_count": null,
   "metadata": {
    "collapsed": true
   },
   "outputs": [],
   "source": []
  }
 ],
 "metadata": {
  "anaconda-cloud": {},
  "kernelspec": {
   "display_name": "Python [Root]",
   "language": "python",
   "name": "Python [Root]"
  },
  "language_info": {
   "codemirror_mode": {
    "name": "ipython",
    "version": 3
   },
   "file_extension": ".py",
   "mimetype": "text/x-python",
   "name": "python",
   "nbconvert_exporter": "python",
   "pygments_lexer": "ipython3",
   "version": "3.5.2"
  }
 },
 "nbformat": 4,
 "nbformat_minor": 0
}
