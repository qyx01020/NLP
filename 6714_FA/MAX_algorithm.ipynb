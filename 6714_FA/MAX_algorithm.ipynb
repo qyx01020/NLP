{
 "cells": [
  {
   "cell_type": "code",
   "execution_count": 1,
   "metadata": {
    "collapsed": true
   },
   "outputs": [],
   "source": [
    "#DEBUG = True\n",
    "DEBUG = False\n",
    "\n",
    "def p(msg):\n",
    "    if DEBUG:\n",
    "        print(\".. {}\".format(msg)) "
   ]
  },
  {
   "cell_type": "code",
   "execution_count": 2,
   "metadata": {
    "collapsed": true
   },
   "outputs": [],
   "source": [
    "from pprint import pprint\n",
    "from bisect import *\n",
    "\n",
    "class InvertedList:\n",
    "    def __init__(self, l):\n",
    "        self.data = l[:] # make a copy\n",
    "        self.cur = 0\n",
    "\n",
    "    def get_list(self):\n",
    "        return self.data\n",
    " \n",
    "    def eol(self):\n",
    "        # we use cur == len(list) to indicate EOL\n",
    "        return False if self.cur < len(self.data) else True\n",
    "    \n",
    "    def next(self, val = 1):\n",
    "        # does not allow cur to be out-of-range, but use len(list) to indicate EOL\n",
    "        self.cur = min(self.cur + val, len(self.data)) \n",
    "            \n",
    "    def elem(self):\n",
    "        if self.eol():\n",
    "            return None\n",
    "        else: \n",
    "            return self.data[self.cur]\n",
    "\n",
    "    def peek(self, pos):\n",
    "        if pos < len(self.data):\n",
    "            return self.data[pos]\n",
    "        else:\n",
    "            return None\n",
    "        \n",
    "    def reset(self):\n",
    "        self.cur = 0\n",
    "    \n",
    "    def dump(self):\n",
    "        print(\"* {} : {} (cur = {})\".format(self.data[:self.cur], self.data[self.cur:], self.cur))\n",
    "        \n",
    "    def skip_to(self, val):\n",
    "        # move the cursor to the first element no smaller than `val`\n",
    "        while not self.eol() and self.elem() < val:\n",
    "            self.next()               "
   ]
  },
  {
   "cell_type": "markdown",
   "metadata": {},
   "source": [
    "As the MAX algorithm needs the input list in the order of increasing size, here is a sort method"
   ]
  },
  {
   "cell_type": "code",
   "execution_count": 3,
   "metadata": {
    "collapsed": true
   },
   "outputs": [],
   "source": [
    "def sort_in_size(lists):\n",
    "    objected_lists = []\n",
    "    lists.sort(key=len)\n",
    "    for list in lists:\n",
    "        objected_lists.append(InvertedList(list))\n",
    "    return objected_lists"
   ]
  },
  {
   "cell_type": "markdown",
   "metadata": {},
   "source": [
    "The algorithm uses the class in notebook L1. The input parameter is a list of InvertedList objects."
   ]
  },
  {
   "cell_type": "code",
   "execution_count": 4,
   "metadata": {
    "collapsed": false
   },
   "outputs": [],
   "source": [
    "def MAX(lists):\n",
    "    result = []\n",
    "    K = sort_in_size(lists)\n",
    "    x = K[0].peek(pos = 0)\n",
    "    print('The eliminator is {}'.format(x))\n",
    "    print('The n is {}'.format(len(K)))\n",
    "    startAt = 1\n",
    "    while x is not None:\n",
    "        print('Results are {}'.format(result))\n",
    "        for i in range(startAt,len(K)):        \n",
    "            K[i].skip_to(val = x)\n",
    "            y = K[i].elem()\n",
    "            print('It is in list{}, x is {}, y is {}, the results are {}'.format(i,x,y,result))\n",
    "            if i == 0:\n",
    "                if y > x:\n",
    "                    x = y\n",
    "                    break\n",
    "            if y is None:\n",
    "                return result\n",
    "            if y > x:\n",
    "                K[0].next()\n",
    "                x = K[0].elem()\n",
    "                print('x is {}'.format(x))\n",
    "                if x is None:\n",
    "                    break\n",
    "                if y > x:\n",
    "                    startAt = 0\n",
    "                    x = y\n",
    "                else:\n",
    "                    startAt = 1\n",
    "                break\n",
    "            elif i == len(K) - 1:\n",
    "                result.append(x)\n",
    "                K[0].next()\n",
    "                x = K[0].elem()"
   ]
  },
  {
   "cell_type": "markdown",
   "metadata": {},
   "source": [
    "Test MAX algorithm"
   ]
  },
  {
   "cell_type": "code",
   "execution_count": 5,
   "metadata": {
    "collapsed": false
   },
   "outputs": [
    {
     "name": "stdout",
     "output_type": "stream",
     "text": [
      "The eliminator is 1\n",
      "The n is 3\n",
      "Results are []\n",
      "It is in list1, x is 1, y is 2, the results are []\n",
      "x is 2\n",
      "Results are []\n",
      "It is in list1, x is 2, y is 2, the results are []\n",
      "It is in list2, x is 2, y is 4, the results are []\n",
      "x is 4\n",
      "Results are []\n",
      "It is in list1, x is 4, y is 4, the results are []\n",
      "It is in list2, x is 4, y is 4, the results are []\n",
      "Results are [4]\n",
      "It is in list1, x is 8, y is 8, the results are [4]\n",
      "It is in list2, x is 8, y is 8, the results are [4]\n",
      "Results are [4, 8]\n",
      "It is in list1, x is 16, y is 16, the results are [4, 8]\n",
      "It is in list2, x is 16, y is 16, the results are [4, 8]\n",
      "Results are [4, 8, 16]\n",
      "It is in list1, x is 32, y is None, the results are [4, 8, 16]\n"
     ]
    },
    {
     "data": {
      "text/plain": [
       "[4, 8, 16]"
      ]
     },
     "execution_count": 5,
     "metadata": {},
     "output_type": "execute_result"
    }
   ],
   "source": [
    "a = [[4,8,16,32,64,128,256,512,1024,2048,2096],[2, 4, 6, 8, 10, 12, 14, 16, 18],[1, 2, 4, 8, 16, 32]]\n",
    "MAX(a)"
   ]
  }
 ],
 "metadata": {
  "kernelspec": {
   "display_name": "Python [Root]",
   "language": "python",
   "name": "Python [Root]"
  },
  "language_info": {
   "codemirror_mode": {
    "name": "ipython",
    "version": 3
   },
   "file_extension": ".py",
   "mimetype": "text/x-python",
   "name": "python",
   "nbconvert_exporter": "python",
   "pygments_lexer": "ipython3",
   "version": "3.5.2"
  }
 },
 "nbformat": 4,
 "nbformat_minor": 0
}
