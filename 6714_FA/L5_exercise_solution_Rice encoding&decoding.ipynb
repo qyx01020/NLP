{
 "cells": [
  {
   "cell_type": "code",
   "execution_count": 1,
   "metadata": {
    "collapsed": true
   },
   "outputs": [],
   "source": [
    "raw = [10,12,14,18,36]"
   ]
  },
  {
   "cell_type": "raw",
   "metadata": {},
   "source": [
    "S = Q * M + R\n",
    "Q = S >> K (S left shifted K bits)\n",
    "R = S & (M - 1) (S bitwise ANDed with (M - 1))\n",
    "R can be represented using K bits.\n",
    "\n",
    "Basic implementation:\n",
    "Given a bit length, K. Compute the modulus, M using by the equation M = 2K. Then do following for each symbol (S):\n",
    "\n",
    "Write out S & (M - 1) in binary.\n",
    "Write out S >> K in unary.\n",
    "The rice code is the combination of R and Q"
   ]
  },
  {
   "cell_type": "code",
   "execution_count": 7,
   "metadata": {
    "collapsed": false
   },
   "outputs": [],
   "source": [
    "def rice_encoding(raw,k):\n",
    "    result = ''\n",
    "    for figure in raw:\n",
    "        M = 2**k\n",
    "        S = figure\n",
    "        Q = bin(figure >> k)\n",
    "        R = S & (M - 1)  \n",
    "        num = int(Q,2)\n",
    "        R_binary = '0b{0:0>4b}'.format(R)\n",
    "        print('R binary is ' + R_binary)\n",
    "        unary = '1'* num + '0' + R_binary[2:]\n",
    "        print('M is {}, S is {}, Q is {}, R is {}'.format(M,S,Q,R))\n",
    "        print('{} convert to rice code is {}'.format(S,unary))\n",
    "        result = result + unary\n",
    "    return result"
   ]
  },
  {
   "cell_type": "markdown",
   "metadata": {},
   "source": [
    "Test the rice encoding method, specify the k = 4"
   ]
  },
  {
   "cell_type": "code",
   "execution_count": 8,
   "metadata": {
    "collapsed": false
   },
   "outputs": [
    {
     "name": "stdout",
     "output_type": "stream",
     "text": [
      "R binary is 0b1010\n",
      "M is 16, S is 10, Q is 0b0, R is 10\n",
      "10 convert to rice code is 01010\n",
      "R binary is 0b1100\n",
      "M is 16, S is 12, Q is 0b0, R is 12\n",
      "12 convert to rice code is 01100\n",
      "R binary is 0b1110\n",
      "M is 16, S is 14, Q is 0b0, R is 14\n",
      "14 convert to rice code is 01110\n",
      "R binary is 0b0010\n",
      "M is 16, S is 18, Q is 0b1, R is 2\n",
      "18 convert to rice code is 100010\n",
      "R binary is 0b0100\n",
      "M is 16, S is 36, Q is 0b10, R is 4\n",
      "36 convert to rice code is 1100100\n",
      "The rice coding is 0101001100011101000101100100\n"
     ]
    }
   ],
   "source": [
    "print('The rice coding is {}'.format(rice_encoding(raw,4)))"
   ]
  },
  {
   "cell_type": "code",
   "execution_count": 4,
   "metadata": {
    "collapsed": true
   },
   "outputs": [],
   "source": [
    "def rice_decoding(raw,k):\n",
    "    result = []\n",
    "    binary = ''\n",
    "    M = 2 ** k\n",
    "    Read_bit = False\n",
    "    count = k\n",
    "    for index,bit in enumerate(raw):\n",
    "        if count == 0:\n",
    "            count = k\n",
    "            Read_bit = False\n",
    "        if Read_bit == True:\n",
    "            count -= 1\n",
    "            continue\n",
    "        if bit == '0':\n",
    "            if binary == '':\n",
    "                Q = 0\n",
    "            else:\n",
    "                Q = len(binary)\n",
    "            R = raw[index + 1:index + 1 + k]\n",
    "            binary = ''\n",
    "            print('Q is {}, M is {}, R is {}'.format(Q,M,R))\n",
    "            outcome = Q * M + int(R,2)\n",
    "            print('Outcome is {}'.format(outcome))\n",
    "            result.append(outcome)\n",
    "            Read_bit = True\n",
    "        if bit == '1':\n",
    "            binary = binary + bit\n",
    "    return result"
   ]
  },
  {
   "cell_type": "markdown",
   "metadata": {},
   "source": [
    "Test the rice decoding method, still specify the k = 4"
   ]
  },
  {
   "cell_type": "code",
   "execution_count": 5,
   "metadata": {
    "collapsed": false
   },
   "outputs": [
    {
     "name": "stdout",
     "output_type": "stream",
     "text": [
      "Q is 0, M is 16, R is 1010\n",
      "Outcome is 10\n",
      "Q is 0, M is 16, R is 1100\n",
      "Outcome is 12\n",
      "Q is 0, M is 16, R is 1110\n",
      "Outcome is 14\n",
      "Q is 1, M is 16, R is 0010\n",
      "Outcome is 18\n",
      "Q is 2, M is 16, R is 0100\n",
      "Outcome is 36\n",
      "[10, 12, 14, 18, 36]\n"
     ]
    }
   ],
   "source": [
    "print(rice_decoding('0101001100011101000101100100',4))"
   ]
  }
 ],
 "metadata": {
  "kernelspec": {
   "display_name": "Python [Root]",
   "language": "python",
   "name": "Python [Root]"
  },
  "language_info": {
   "codemirror_mode": {
    "name": "ipython",
    "version": 3
   },
   "file_extension": ".py",
   "mimetype": "text/x-python",
   "name": "python",
   "nbconvert_exporter": "python",
   "pygments_lexer": "ipython3",
   "version": "3.5.2"
  }
 },
 "nbformat": 4,
 "nbformat_minor": 0
}
