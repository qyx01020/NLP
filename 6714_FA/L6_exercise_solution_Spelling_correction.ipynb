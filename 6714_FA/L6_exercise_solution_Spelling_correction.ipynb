{
 "cells": [
  {
   "cell_type": "code",
   "execution_count": 1,
   "metadata": {
    "collapsed": false
   },
   "outputs": [
    {
     "name": "stdout",
     "output_type": "stream",
     "text": [
      "Populating the interactive namespace from numpy and matplotlib\n"
     ]
    }
   ],
   "source": [
    "# Boring preliminaries\n",
    "%pylab inline\n",
    "import re\n",
    "import math\n",
    "import string\n",
    "from collections import Counter\n",
    "from __future__ import division\n",
    "\n",
    "# %pylab inline causes numpy.sum() overriding builtin's sum(). \n",
    "import builtins as base"
   ]
  },
  {
   "cell_type": "code",
   "execution_count": 2,
   "metadata": {
    "collapsed": false
   },
   "outputs": [
    {
     "data": {
      "text/plain": [
       "6488666"
      ]
     },
     "execution_count": 2,
     "metadata": {},
     "output_type": "execute_result"
    }
   ],
   "source": [
    "# save space\n",
    "import gzip\n",
    "with gzip.open('./big.txt.gz', 'rt') as f:\n",
    "    TEXT = f.read()\n",
    "\n",
    "len(TEXT)"
   ]
  },
  {
   "cell_type": "code",
   "execution_count": 3,
   "metadata": {
    "collapsed": true
   },
   "outputs": [],
   "source": [
    "def tokens(text):\n",
    "    \"List all the word tokens (consecutive letters) in a text. Normalize to lowercase.\"\n",
    "    return re.findall('[a-z]+', text.lower()) "
   ]
  },
  {
   "cell_type": "code",
   "execution_count": 4,
   "metadata": {
    "collapsed": false
   },
   "outputs": [
    {
     "data": {
      "text/plain": [
       "['this', 'is', 'a', 'test', 'this', 'is']"
      ]
     },
     "execution_count": 4,
     "metadata": {},
     "output_type": "execute_result"
    }
   ],
   "source": [
    "tokens('This is: A test, 1, 2, 3, this is.')"
   ]
  },
  {
   "cell_type": "code",
   "execution_count": 5,
   "metadata": {
    "collapsed": false
   },
   "outputs": [
    {
     "data": {
      "text/plain": [
       "1105285"
      ]
     },
     "execution_count": 5,
     "metadata": {},
     "output_type": "execute_result"
    }
   ],
   "source": [
    "WORDS = tokens(TEXT)\n",
    "len(WORDS)"
   ]
  },
  {
   "cell_type": "code",
   "execution_count": 6,
   "metadata": {
    "collapsed": false
   },
   "outputs": [
    {
     "name": "stdout",
     "output_type": "stream",
     "text": [
      "['the', 'project', 'gutenberg', 'ebook', 'of', 'the', 'adventures', 'of', 'sherlock', 'holmes']\n"
     ]
    }
   ],
   "source": [
    "print(WORDS[:10])"
   ]
  },
  {
   "cell_type": "code",
   "execution_count": 7,
   "metadata": {
    "collapsed": true
   },
   "outputs": [],
   "source": [
    "def sample(bag, n=10):\n",
    "    \"Sample a random n-word sentence from the model described by the bag of words.\"\n",
    "    return ' '.join(random.choice(bag) for _ in range(n))"
   ]
  },
  {
   "cell_type": "code",
   "execution_count": 8,
   "metadata": {
    "collapsed": false
   },
   "outputs": [
    {
     "data": {
      "text/plain": [
       "'lactate of and the seventy who growth now at rostov'"
      ]
     },
     "execution_count": 8,
     "metadata": {},
     "output_type": "execute_result"
    }
   ],
   "source": [
    "sample(WORDS)"
   ]
  },
  {
   "cell_type": "code",
   "execution_count": 9,
   "metadata": {
    "collapsed": false
   },
   "outputs": [
    {
     "data": {
      "text/plain": [
       "Counter({'a': 2, 'is': 2, 'it': 1, 'test': 2, 'this': 1})"
      ]
     },
     "execution_count": 9,
     "metadata": {},
     "output_type": "execute_result"
    }
   ],
   "source": [
    "Counter(tokens('Is this a test? It is a test!'))"
   ]
  },
  {
   "cell_type": "code",
   "execution_count": 10,
   "metadata": {
    "collapsed": false
   },
   "outputs": [
    {
     "name": "stdout",
     "output_type": "stream",
     "text": [
      "[('the', 80030), ('of', 40025), ('and', 38313), ('to', 28766), ('in', 22050), ('a', 21155), ('that', 12512), ('he', 12401), ('was', 11410), ('it', 10681)]\n"
     ]
    }
   ],
   "source": [
    "COUNTS = Counter(WORDS)\n",
    "\n",
    "print(COUNTS.most_common(10))"
   ]
  },
  {
   "cell_type": "code",
   "execution_count": 11,
   "metadata": {
    "collapsed": false
   },
   "outputs": [
    {
     "name": "stdout",
     "output_type": "stream",
     "text": [
      "80030 the\n",
      "83 rare\n",
      "38313 and\n",
      "0 neverbeforeseen\n",
      "460 words\n"
     ]
    }
   ],
   "source": [
    "for w in tokens('the rare and neverbeforeseen words'):\n",
    "    print(COUNTS[w], w)"
   ]
  },
  {
   "cell_type": "code",
   "execution_count": 12,
   "metadata": {
    "collapsed": false
   },
   "outputs": [
    {
     "data": {
      "image/png": "[encoded data removed]",
      "text/plain": [
       "<matplotlib.figure.Figure at 0x1126859b0>"
      ]
     },
     "metadata": {},
     "output_type": "display_data"
    }
   ],
   "source": [
    "M = COUNTS['the']\n",
    "yscale('log'); xscale('log'); title('Frequency of n-th most frequent word and 1/n line.')\n",
    "plot([c for (w, c) in COUNTS.most_common()])\n",
    "plot([M/i for i in range(1, len(COUNTS)+1)]);"
   ]
  },
  {
   "cell_type": "code",
   "execution_count": 13,
   "metadata": {
    "collapsed": false
   },
   "outputs": [
    {
     "name": "stdout",
     "output_type": "stream",
     "text": [
      "actress: 7\n",
      "cress: 0\n",
      "caress: 3\n",
      "access: 56\n",
      "across: 222\n",
      "acres: 36\n"
     ]
    }
   ],
   "source": [
    "cands = ['actress', 'cress', 'caress', 'access', 'across', 'acres']\n",
    "pairs = [(w, COUNTS[w]) for w in cands]\n",
    "for pair in pairs:\n",
    "    print('{}: {}'.format(pair[0], pair[1]))"
   ]
  },
  {
   "cell_type": "code",
   "execution_count": 14,
   "metadata": {
    "collapsed": false
   },
   "outputs": [
    {
     "name": "stdout",
     "output_type": "stream",
     "text": [
      "across / access in the bigw corpus = 3.9642857142857144\n",
      "across / access in the COCA corpus = 3.2627031697175872\n"
     ]
    }
   ],
   "source": [
    "print('across / access in the bigw corpus =', 222.0 / 56)\n",
    "print('across / access in the COCA corpus =', 120844.0 / 37038)"
   ]
  },
  {
   "cell_type": "code",
   "execution_count": 15,
   "metadata": {
    "collapsed": false
   },
   "outputs": [
    {
     "data": {
      "text/plain": [
       "1105285"
      ]
     },
     "execution_count": 15,
     "metadata": {},
     "output_type": "execute_result"
    }
   ],
   "source": [
    "base.sum(COUNTS.values())"
   ]
  },
  {
   "cell_type": "code",
   "execution_count": 16,
   "metadata": {
    "collapsed": true
   },
   "outputs": [],
   "source": [
    "def pdist(counter):\n",
    "    \"Make a probability distribution, given evidence from a Counter.\"\n",
    "    N = int(base.sum(counter.values()))\n",
    "    return lambda x: counter[x]/N\n",
    "\n",
    "P = pdist(COUNTS)"
   ]
  },
  {
   "cell_type": "code",
   "execution_count": 17,
   "metadata": {
    "collapsed": false
   },
   "outputs": [
    {
     "name": "stdout",
     "output_type": "stream",
     "text": [
      "P(actress) \t= 6.333208e-06\n",
      "P(cress) \t= 0.000000e+00\n",
      "P(caress) \t= 2.714232e-06\n",
      "P(access) \t= 5.066567e-05\n",
      "P(across) \t= 2.008532e-04\n",
      "P(acres) \t= 3.257078e-05\n"
     ]
    }
   ],
   "source": [
    "for w in cands:\n",
    "    print('P({}) \\t= {:8.6e}'.format(w, P(w)))"
   ]
  },
  {
   "cell_type": "code",
   "execution_count": 18,
   "metadata": {
    "collapsed": true
   },
   "outputs": [],
   "source": [
    "def known(words):\n",
    "    \"Return the subset of words that are actually in the dictionary.\"\n",
    "    return {w for w in words if w in COUNTS}\n",
    "\n",
    "def edits0(word): \n",
    "    \"Return all strings that are zero edits away from word (i.e., just word itself).\"\n",
    "    return {word}\n",
    "\n",
    "def edits2(word):\n",
    "    \"Return all strings that are two edits away from this word.\"\n",
    "    return {e2 for e1 in edits1(word) for e2 in edits1(e1)}"
   ]
  },
  {
   "cell_type": "code",
   "execution_count": 19,
   "metadata": {
    "collapsed": true
   },
   "outputs": [],
   "source": [
    "def edits1(word):\n",
    "    \"Return all strings that are one edit away from this word.\"\n",
    "    pairs      = splits(word)\n",
    "    deletes    = [a+b[1:]           for (a, b) in pairs if b]\n",
    "    transposes = [a+b[1]+b[0]+b[2:] for (a, b) in pairs if len(b) > 1]\n",
    "    replaces   = [a+c+b[1:]         for (a, b) in pairs for c in alphabet if b]\n",
    "    inserts    = [a+c+b             for (a, b) in pairs for c in alphabet]\n",
    "    return set(deletes + transposes + replaces + inserts)\n",
    "\n",
    "def splits(word):\n",
    "    \"Return a list of all possible (first, rest) pairs that comprise word.\"\n",
    "    return [(word[:i], word[i:]) \n",
    "            for i in range(len(word)+1)]\n",
    "\n",
    "alphabet = 'abcdefghijklmnopqrstuvwxyz'"
   ]
  },
  {
   "cell_type": "code",
   "execution_count": 20,
   "metadata": {
    "collapsed": false
   },
   "outputs": [
    {
     "data": {
      "text/plain": [
       "[('', 'wird'), ('w', 'ird'), ('wi', 'rd'), ('wir', 'd'), ('wird', '')]"
      ]
     },
     "execution_count": 20,
     "metadata": {},
     "output_type": "execute_result"
    }
   ],
   "source": [
    "splits('wird')"
   ]
  },
  {
   "cell_type": "code",
   "execution_count": 21,
   "metadata": {
    "collapsed": false
   },
   "outputs": [
    {
     "name": "stdout",
     "output_type": "stream",
     "text": [
      "{'wird'}\n"
     ]
    }
   ],
   "source": [
    "print(edits0('wird'))"
   ]
  },
  {
   "cell_type": "code",
   "execution_count": 22,
   "metadata": {
    "collapsed": false
   },
   "outputs": [
    {
     "name": "stdout",
     "output_type": "stream",
     "text": [
      "{'wdird', 'wirrd', 'qird', 'wzird', 'wirx', 'wibd', 'wirfd', 'wirdx', 'wiprd', 'wirb', 'wierd', 'wimrd', 'zwird', 'wird', 'wirc', 'wirid', 'nwird', 'wfrd', 'wprd', 'wrrd', 'wwrd', 'wirde', 'kird', 'wsrd', 'wirdh', 'wirhd', 'wirdp', 'wirt', 'wjrd', 'wqrd', 'wigrd', 'qwird', 'wpird', 'cwird', 'wirnd', 'wirpd', 'oird', 'kwird', 'wvrd', 'wiro', 'wyrd', 'bird', 'wired', 'wirxd', 'ywird', 'wirv', 'wyird', 'wmird', 'pird', 'wirdw', 'wiyd', 'pwird', 'winrd', 'wuird', 'wirdg', 'wxrd', 'wcird', 'wtird', 'wiard', 'wiud', 'wimd', 'wirwd', 'awird', 'wirds', 'wijd', 'wixd', 'wmrd', 'wifrd', 'wir', 'wirdi', 'wiord', 'wirdq', 'wnrd', 'wirdu', 'jird', 'weird', 'gird', 'wicd', 'wrid', 'wiry', 'waird', 'wirod', 'wirdt', 'wizd', 'wgird', 'wibrd', 'widr', 'wiid', 'wkrd', 'mwird', 'vwird', 'xird', 'wixrd', 'wiru', 'wirdm', 'wiri', 'wirdf', 'wirsd', 'wiryd', 'wiod', 'wirdz', 'wlird', 'wgrd', 'wirf', 'wiad', 'wihd', 'gwird', 'wirdc', 'lwird', 'wirzd', 'yird', 'uird', 'wire', 'wirdb', 'mird', 'wipd', 'wirw', 'word', 'dird', 'wilrd', 'owird', 'vird', 'wild', 'tird', 'wjird', 'wivd', 'wkird', 'woird', 'wirdn', 'wirg', 'sird', 'rird', 'hwird', 'widrd', 'wirq', 'fwird', 'wdrd', 'witd', 'wirdj', 'wirdy', 'wtrd', 'wiqd', 'wira', 'iwird', 'wwird', 'eird', 'wisd', 'wind', 'wirl', 'witrd', 'wnird', 'wfird', 'nird', 'wirk', 'uwird', 'wihrd', 'wiwrd', 'ewird', 'wirs', 'whird', 'wsird', 'xwird', 'wicrd', 'wiqrd', 'wirn', 'wiyrd', 'wirjd', 'wirqd', 'werd', 'swird', 'ward', 'wirp', 'wirld', 'aird', 'rwird', 'wirtd', 'wiird', 'wiwd', 'wikrd', 'wirdd', 'wircd', 'wqird', 'wrird', 'wirdk', 'whrd', 'dwird', 'wirud', 'wirbd', 'wirdo', 'wid', 'bwird', 'zird', 'wizrd', 'wbird', 'iird', 'cird', 'wirmd', 'wifd', 'ird', 'wikd', 'wvird', 'fird', 'wxird', 'iwrd', 'wied', 'wirvd', 'wurd', 'wiurd', 'wirm', 'wigd', 'wirgd', 'widd', 'wirad', 'wijrd', 'wrd', 'jwird', 'twird', 'wirr', 'hird', 'wcrd', 'wirj', 'wisrd', 'wirda', 'wirdv', 'wirkd', 'wirdl', 'wivrd', 'lird', 'wlrd', 'wirh', 'wirz', 'wirdr', 'wzrd', 'wbrd'}\n"
     ]
    }
   ],
   "source": [
    "print(edits1('wird'))"
   ]
  },
  {
   "cell_type": "code",
   "execution_count": 23,
   "metadata": {
    "collapsed": false
   },
   "outputs": [
    {
     "name": "stdout",
     "output_type": "stream",
     "text": [
      "24254\n"
     ]
    }
   ],
   "source": [
    "print(len(edits2('wird')))"
   ]
  },
  {
   "cell_type": "code",
   "execution_count": 24,
   "metadata": {
    "collapsed": true
   },
   "outputs": [],
   "source": [
    "from math import exp\n",
    "\n",
    "BETA = 1.0\n",
    "\n",
    "def score(err, beta = BETA):\n",
    "    return exp(-beta * err)"
   ]
  },
  {
   "cell_type": "code",
   "execution_count": 25,
   "metadata": {
    "collapsed": false
   },
   "outputs": [
    {
     "name": "stdout",
     "output_type": "stream",
     "text": [
      "beta = 0.5\tscore(1) = 0.6065306597126334\tscore(2) = 0.36787944117144233\n",
      "beta = 1.0\tscore(1) = 0.36787944117144233\tscore(2) = 0.1353352832366127\n",
      "beta = 1.5\tscore(1) = 0.22313016014842982\tscore(2) = 0.049787068367863944\n",
      "beta = 2.0\tscore(1) = 0.1353352832366127\tscore(2) = 0.01831563888873418\n"
     ]
    }
   ],
   "source": [
    "for b in [0.5, 1.0, 1.5, 2.0]:\n",
    "    print('beta = {}\\tscore(1) = {}\\tscore(2) = {}'.format(b, score(1, b), score(2, b)))"
   ]
  },
  {
   "cell_type": "code",
   "execution_count": 26,
   "metadata": {
    "collapsed": false,
    "scrolled": true
   },
   "outputs": [],
   "source": [
    "import nltk\n",
    "\n",
    "words=re.compile('.*[A-Za-z0-9].*')\n",
    "filtered=[w for w in WORDS if words.match(w)]\n",
    "pairs=nltk.bigrams(filtered)\n",
    "fdist=nltk.FreqDist(pairs)"
   ]
  },
  {
   "cell_type": "markdown",
   "metadata": {},
   "source": [
    "To implement bigram language model, we need to get bigram words and count their frequency."
   ]
  },
  {
   "cell_type": "code",
   "execution_count": 27,
   "metadata": {
    "collapsed": true
   },
   "outputs": [],
   "source": [
    "def get_bigram(raw):\n",
    "    words=re.compile('.*[A-Za-z0-9].*')\n",
    "    filtered=[w for w in WORDS if words.match(w)]\n",
    "    pairs=nltk.bigrams(filtered)\n",
    "    fdist=nltk.FreqDist(pairs)\n",
    "    \n",
    "    return fdist"
   ]
  },
  {
   "cell_type": "code",
   "execution_count": 28,
   "metadata": {
    "collapsed": true
   },
   "outputs": [],
   "source": [
    "bigram_info = get_bigram(WORDS)"
   ]
  },
  {
   "cell_type": "markdown",
   "metadata": {},
   "source": [
    "Now we can define the method to compute the prior using bigram language model(with add-1 smoothing)."
   ]
  },
  {
   "cell_type": "code",
   "execution_count": 55,
   "metadata": {
    "collapsed": false
   },
   "outputs": [],
   "source": [
    "def compute_bi_pro(cand):\n",
    "    count = []\n",
    "    for pair,c in bigram_info.items():\n",
    "        if pair[0] == cand and pair[1] == cand:\n",
    "            ##print(pair,c)\n",
    "            count.append(c)\n",
    "    N = COUNTS[cand]\n",
    "    return (sum(count) + 1)/(N + len(bigram_info))"
   ]
  },
  {
   "cell_type": "markdown",
   "metadata": {},
   "source": [
    "Test the probability using bigram language model"
   ]
  },
  {
   "cell_type": "code",
   "execution_count": 56,
   "metadata": {
    "collapsed": false
   },
   "outputs": [
    {
     "name": "stdout",
     "output_type": "stream",
     "text": [
      "4.35747884989e-06\n"
     ]
    }
   ],
   "source": [
    "a = compute_bi_pro('the')\n",
    "print(a)"
   ]
  },
  {
   "cell_type": "code",
   "execution_count": 57,
   "metadata": {
    "collapsed": false
   },
   "outputs": [
    {
     "data": {
      "text/plain": [
       "80030"
      ]
     },
     "execution_count": 57,
     "metadata": {},
     "output_type": "execute_result"
    }
   ],
   "source": [
    "COUNTS['the']"
   ]
  },
  {
   "cell_type": "code",
   "execution_count": 58,
   "metadata": {
    "collapsed": true
   },
   "outputs": [],
   "source": [
    "DEBUG = True\n",
    "def correct(word):\n",
    "    \"Find the best spelling correction for this word.\"\n",
    "    if known([word]):\n",
    "        print('Error: this function only works with words not in the dictionary.')\n",
    "        return word\n",
    "    \n",
    "    # get the candidates that are <=2 distance away from word\n",
    "    candidates = [(w, 1) for w in known(edits1(word))]\n",
    "    candidates.extend([(w, 2) for w in known(edits2(word))])\n",
    "    if len(candidates) == 0:\n",
    "        print('Warning: no candidate found for {}. I do not know how to correct it.'.format(word))\n",
    "        return word\n",
    "    # general case\n",
    "    \n",
    "    best_cand = None\n",
    "    best_prob = -1.0\n",
    "    for cand, err in candidates:\n",
    "        prob = compute_bi_pro(cand) * score(err)\n",
    "        # debug\n",
    "        if DEBUG:\n",
    "            print('.. c = {} (err = {}) => Prob = {} <= prior = {}, likelihood = {}'.format(\n",
    "                    cand, err, prob, P(cand), score(err)))\n",
    "        \n",
    "        if prob > best_prob: \n",
    "            best_cand = cand \n",
    "            best_prob = prob\n",
    "    \n",
    "    return best_cand"
   ]
  },
  {
   "cell_type": "markdown",
   "metadata": {},
   "source": [
    "Now let us implement the correction procedure and find the best candidate"
   ]
  },
  {
   "cell_type": "code",
   "execution_count": 59,
   "metadata": {
    "collapsed": false
   },
   "outputs": [
    {
     "name": "stdout",
     "output_type": "stream",
     "text": [
      ".. c = than (err = 1) => Prob = 9.677039780181408e-07 <= prior = 0.0010911212945077513, likelihood = 0.36787944117144233\n",
      ".. c = thaw (err = 1) => Prob = 9.707785429101824e-07 <= prior = 1.8094880505932859e-06, likelihood = 0.36787944117144233\n",
      ".. c = the (err = 1) => Prob = 1.6030268842128207e-06 <= prior = 0.07240666434449033, likelihood = 0.36787944117144233\n",
      ".. c = ta (err = 1) => Prob = 2.912304888191344e-06 <= prior = 5.428464151779858e-06, likelihood = 0.36787944117144233\n",
      ".. c = thy (err = 1) => Prob = 9.706632783588365e-07 <= prior = 4.252296918894222e-05, likelihood = 0.36787944117144233\n",
      ".. c = tea (err = 1) => Prob = 9.705096348617951e-07 <= prior = 9.680761070674079e-05, likelihood = 0.36787944117144233\n",
      ".. c = th (err = 1) => Prob = 9.70653033945579e-07 <= prior = 4.614194529012879e-05, likelihood = 0.36787944117144233\n",
      ".. c = tra (err = 1) => Prob = 9.707785429101824e-07 <= prior = 1.8094880505932859e-06, likelihood = 0.36787944117144233\n",
      ".. c = that (err = 1) => Prob = 3.4770947250042443e-05 <= prior = 0.011320157244511596, likelihood = 0.36787944117144233\n",
      ".. c = ha (err = 1) => Prob = 3.4941296592244135e-05 <= prior = 6.785580189724822e-05, likelihood = 0.36787944117144233\n",
      ".. c = shaw (err = 2) => Prob = 3.5712946786702493e-07 <= prior = 1.8094880505932859e-06, likelihood = 0.1353352832366127\n",
      ".. c = the (err = 2) => Prob = 5.897206343470109e-07 <= prior = 0.07240666434449033, likelihood = 0.1353352832366127\n",
      ".. c = them (err = 2) => Prob = 3.5503180349171205e-07 <= prior = 0.002027531360689777, likelihood = 0.1353352832366127\n",
      ".. c = ca (err = 2) => Prob = 3.5713041028049123e-07 <= prior = 9.047440252966429e-07, likelihood = 0.1353352832366127\n",
      ".. c = isa (err = 2) => Prob = 3.5712758305501367e-07 <= prior = 3.6189761011865717e-06, likelihood = 0.1353352832366127\n",
      ".. c = tow (err = 2) => Prob = 3.5713041028049123e-07 <= prior = 9.047440252966429e-07, likelihood = 0.1353352832366127\n",
      ".. c = tie (err = 2) => Prob = 3.571172169445615e-07 <= prior = 1.3571160379449644e-05, likelihood = 0.1353352832366127\n",
      ".. c = th (err = 2) => Prob = 3.5708329569926467e-07 <= prior = 4.614194529012879e-05, likelihood = 0.1353352832366127\n",
      ".. c = aah (err = 2) => Prob = 3.5713041028049123e-07 <= prior = 9.047440252966429e-07, likelihood = 0.1353352832366127\n",
      ".. c = shag (err = 2) => Prob = 3.5712758305501367e-07 <= prior = 3.6189761011865717e-06, likelihood = 0.1353352832366127\n",
      ".. c = thy (err = 2) => Prob = 3.5708706440828896e-07 <= prior = 4.252296918894222e-05, likelihood = 0.1353352832366127\n",
      ".. c = too (err = 2) => Prob = 3.566156517846231e-07 <= prior = 0.0004957997258625604, likelihood = 0.1353352832366127\n",
      ".. c = tut (err = 2) => Prob = 2.499846904587502e-06 <= prior = 9.952184278263072e-06, likelihood = 0.1353352832366127\n",
      ".. c = ten (err = 2) => Prob = 3.5692508172221614e-07 <= prior = 0.0001981389415399648, likelihood = 0.1353352832366127\n",
      ".. c = to (err = 2) => Prob = 2.3235405505688726e-06 <= prior = 0.02602586663168323, likelihood = 0.1353352832366127\n",
      ".. c = tug (err = 2) => Prob = 3.5712758305501367e-07 <= prior = 3.6189761011865717e-06, likelihood = 0.1353352832366127\n",
      ".. c = pea (err = 2) => Prob = 3.5711815929337193e-07 <= prior = 1.2666416354153001e-05, likelihood = 0.1353352832366127\n",
      ".. c = shan (err = 2) => Prob = 3.571172169445615e-07 <= prior = 1.3571160379449644e-05, likelihood = 0.1353352832366127\n",
      ".. c = tap (err = 2) => Prob = 3.5712192873834694e-07 <= prior = 9.047440252966429e-06, likelihood = 0.1353352832366127\n",
      ".. c = a (err = 2) => Prob = 1.0147457166596805e-06 <= prior = 0.01913985985515048, likelihood = 0.1353352832366127\n",
      ".. c = ida (err = 2) => Prob = 3.5712946786702493e-07 <= prior = 1.8094880505932859e-06, likelihood = 0.1353352832366127\n",
      ".. c = tasha (err = 2) => Prob = 3.5712946786702493e-07 <= prior = 1.8094880505932859e-06, likelihood = 0.1353352832366127\n",
      ".. c = ty (err = 2) => Prob = 3.5713041028049123e-07 <= prior = 9.047440252966429e-07, likelihood = 0.1353352832366127\n",
      ".. c = era (err = 2) => Prob = 3.5712192873834694e-07 <= prior = 9.047440252966429e-06, likelihood = 0.1353352832366127\n",
      ".. c = try (err = 2) => Prob = 3.5704938089746334e-07 <= prior = 7.871273020080794e-05, likelihood = 0.1353352832366127\n",
      ".. c = tat (err = 2) => Prob = 3.5713041028049123e-07 <= prior = 9.047440252966429e-07, likelihood = 0.1353352832366127\n",
      ".. c = chat (err = 2) => Prob = 3.5712287111202423e-07 <= prior = 8.142696227669786e-06, likelihood = 0.1353352832366127\n",
      ".. c = tu (err = 2) => Prob = 3.5712758305501367e-07 <= prior = 3.6189761011865717e-06, likelihood = 0.1353352832366127\n",
      ".. c = tt (err = 2) => Prob = 3.5713041028049123e-07 <= prior = 9.047440252966429e-07, likelihood = 0.1353352832366127\n",
      ".. c = tafa (err = 2) => Prob = 3.5712946786702493e-07 <= prior = 1.8094880505932859e-06, likelihood = 0.1353352832366127\n",
      ".. c = tea (err = 2) => Prob = 3.5703054212445775e-07 <= prior = 9.680761070674079e-05, likelihood = 0.1353352832366127\n",
      ".. c = ma (err = 2) => Prob = 3.5710214003992984e-07 <= prior = 2.8047064784195933e-05, likelihood = 0.1353352832366127\n",
      ".. c = thin (err = 2) => Prob = 3.5697497932462194e-07 <= prior = 0.00015018750819924273, likelihood = 0.1353352832366127\n",
      ".. c = tra (err = 2) => Prob = 3.5712946786702493e-07 <= prior = 1.8094880505932859e-06, likelihood = 0.1353352832366127\n",
      ".. c = what (err = 2) => Prob = 4.960425291815881e-06 <= prior = 0.002724184260168192, likelihood = 0.1353352832366127\n",
      ".. c = pua (err = 2) => Prob = 3.5713041028049123e-07 <= prior = 9.047440252966429e-07, likelihood = 0.1353352832366127\n",
      ".. c = txt (err = 2) => Prob = 3.57123813490675e-07 <= prior = 7.2379522023731435e-06, likelihood = 0.1353352832366127\n",
      ".. c = wa (err = 2) => Prob = 3.5713041028049123e-07 <= prior = 9.047440252966429e-07, likelihood = 0.1353352832366127\n",
      ".. c = team (err = 2) => Prob = 3.57123813490675e-07 <= prior = 7.2379522023731435e-06, likelihood = 0.1353352832366127\n",
      ".. c = toe (err = 2) => Prob = 3.5709742876830264e-07 <= prior = 3.2570784910679145e-05, likelihood = 0.1353352832366127\n",
      ".. c = tax (err = 2) => Prob = 3.5705220688488584e-07 <= prior = 7.599849812491801e-05, likelihood = 0.1353352832366127\n",
      ".. c = toy (err = 2) => Prob = 3.5712475587429926e-07 <= prior = 6.333208177076501e-06, likelihood = 0.1353352832366127\n",
      ".. c = ana (err = 2) => Prob = 3.5712946786702493e-07 <= prior = 1.8094880505932859e-06, likelihood = 0.1353352832366127\n",
      ".. c = twy (err = 2) => Prob = 3.5712852545853246e-07 <= prior = 2.714232075889929e-06, likelihood = 0.1353352832366127\n",
      ".. c = tin (err = 2) => Prob = 3.5712475587429926e-07 <= prior = 6.333208177076501e-06, likelihood = 0.1353352832366127\n",
      ".. c = sta (err = 2) => Prob = 3.5713041028049123e-07 <= prior = 9.047440252966429e-07, likelihood = 0.1353352832366127\n",
      ".. c = ton (err = 2) => Prob = 3.5712475587429926e-07 <= prior = 6.333208177076501e-06, likelihood = 0.1353352832366127\n",
      ".. c = te (err = 2) => Prob = 3.5713041028049123e-07 <= prior = 9.047440252966429e-07, likelihood = 0.1353352832366127\n",
      ".. c = tray (err = 2) => Prob = 3.57123813490675e-07 <= prior = 7.2379522023731435e-06, likelihood = 0.1353352832366127\n",
      ".. c = t (err = 2) => Prob = 3.558935470327918e-07 <= prior = 0.0011924526253409755, likelihood = 0.1353352832366127\n",
      ".. c = sca (err = 2) => Prob = 3.5713041028049123e-07 <= prior = 9.047440252966429e-07, likelihood = 0.1353352832366127\n",
      ".. c = rah (err = 2) => Prob = 3.5713041028049123e-07 <= prior = 9.047440252966429e-07, likelihood = 0.1353352832366127\n",
      ".. c = na (err = 2) => Prob = 3.5712852545853246e-07 <= prior = 2.714232075889929e-06, likelihood = 0.1353352832366127\n",
      ".. c = yea (err = 2) => Prob = 3.5713041028049123e-07 <= prior = 9.047440252966429e-07, likelihood = 0.1353352832366127\n",
      ".. c = thee (err = 2) => Prob = 7.142137028717453e-07 <= prior = 2.3523344657712718e-05, likelihood = 0.1353352832366127\n",
      ".. c = thud (err = 2) => Prob = 3.5712192873834694e-07 <= prior = 9.047440252966429e-06, likelihood = 0.1353352832366127\n",
      ".. c = oh (err = 2) => Prob = 4.994435288056964e-06 <= prior = 0.0003709450503716236, likelihood = 0.1353352832366127\n",
      ".. c = ti (err = 2) => Prob = 1.428499023497197e-06 <= prior = 6.333208177076501e-06, likelihood = 0.1353352832366127\n",
      ".. c = ah (err = 2) => Prob = 2.141533546480567e-06 <= prior = 0.00020085317361585473, likelihood = 0.1353352832366127\n",
      ".. c = la (err = 2) => Prob = 3.570795270697897e-07 <= prior = 4.976092139131536e-05, likelihood = 0.1353352832366127\n",
      ".. c = toi (err = 2) => Prob = 3.5712946786702493e-07 <= prior = 1.8094880505932859e-06, likelihood = 0.1353352832366127\n",
      ".. c = that (err = 2) => Prob = 1.2791516643347315e-05 <= prior = 0.011320157244511596, likelihood = 0.1353352832366127\n",
      ".. c = sa (err = 2) => Prob = 3.5712758305501367e-07 <= prior = 3.6189761011865717e-06, likelihood = 0.1353352832366127\n",
      ".. c = tr (err = 2) => Prob = 3.5713041028049123e-07 <= prior = 9.047440252966429e-07, likelihood = 0.1353352832366127\n",
      ".. c = wh (err = 2) => Prob = 3.5713041028049123e-07 <= prior = 9.047440252966429e-07, likelihood = 0.1353352832366127\n",
      ".. c = eva (err = 2) => Prob = 3.5713041028049123e-07 <= prior = 9.047440252966429e-07, likelihood = 0.1353352832366127\n",
      ".. c = twas (err = 2) => Prob = 3.5712852545853246e-07 <= prior = 2.714232075889929e-06, likelihood = 0.1353352832366127\n",
      ".. c = htm (err = 2) => Prob = 3.5713041028049123e-07 <= prior = 9.047440252966429e-07, likelihood = 0.1353352832366127\n",
      ".. c = has (err = 2) => Prob = 3.556270154475126e-07 <= prior = 0.0014503046725505187, likelihood = 0.1353352832366127\n",
      ".. c = lea (err = 2) => Prob = 3.5713041028049123e-07 <= prior = 9.047440252966429e-07, likelihood = 0.1353352832366127\n",
      ".. c = tear (err = 2) => Prob = 3.571087360290592e-07 <= prior = 2.1713856607119432e-05, likelihood = 0.1353352832366127\n",
      ".. c = thank (err = 2) => Prob = 3.5703242591229977e-07 <= prior = 9.499812265614751e-05, likelihood = 0.1353352832366127\n",
      ".. c = chi (err = 2) => Prob = 3.5713041028049123e-07 <= prior = 9.047440252966429e-07, likelihood = 0.1353352832366127\n",
      ".. c = ra (err = 2) => Prob = 3.5713041028049123e-07 <= prior = 9.047440252966429e-07, likelihood = 0.1353352832366127\n",
      ".. c = tit (err = 2) => Prob = 3.5712475587429926e-07 <= prior = 6.333208177076501e-06, likelihood = 0.1353352832366127\n",
      ".. c = whoa (err = 2) => Prob = 3.5712946786702493e-07 <= prior = 1.8094880505932859e-06, likelihood = 0.1353352832366127\n",
      ".. c = va (err = 2) => Prob = 3.5712475587429926e-07 <= prior = 6.333208177076501e-06, likelihood = 0.1353352832366127\n",
      ".. c = hata (err = 2) => Prob = 3.5712946786702493e-07 <= prior = 1.8094880505932859e-06, likelihood = 0.1353352832366127\n",
      ".. c = he (err = 2) => Prob = 5.878850280623111e-06 <= prior = 0.01121973065770367, likelihood = 0.1353352832366127\n",
      ".. c = hat (err = 2) => Prob = 3.5703242591229977e-07 <= prior = 9.499812265614751e-05, likelihood = 0.1353352832366127\n",
      ".. c = two (err = 2) => Prob = 7.121241774248279e-07 <= prior = 0.0010295987007875797, likelihood = 0.1353352832366127\n",
      ".. c = than (err = 2) => Prob = 3.5599839865269534e-07 <= prior = 0.0010911212945077513, likelihood = 0.1353352832366127\n",
      ".. c = hay (err = 2) => Prob = 3.570917754064394e-07 <= prior = 3.7999249062459004e-05, likelihood = 0.1353352832366127\n",
      ".. c = tss (err = 2) => Prob = 3.5713041028049123e-07 <= prior = 9.047440252966429e-07, likelihood = 0.1353352832366127\n",
      ".. c = ta (err = 2) => Prob = 1.0713770947886914e-06 <= prior = 5.428464151779858e-06, likelihood = 0.1353352832366127\n",
      ".. c = tic (err = 2) => Prob = 3.5712852545853246e-07 <= prior = 2.714232075889929e-06, likelihood = 0.1353352832366127\n",
      ".. c = thus (err = 2) => Prob = 3.5693167117206244e-07 <= prior = 0.00019180573336288832, likelihood = 0.1353352832366127\n",
      ".. c = ka (err = 2) => Prob = 3.5713041028049123e-07 <= prior = 9.047440252966429e-07, likelihood = 0.1353352832366127\n",
      ".. c = via (err = 2) => Prob = 3.5712852545853246e-07 <= prior = 2.714232075889929e-06, likelihood = 0.1353352832366127\n",
      ".. c = she (err = 2) => Prob = 1.4138035371038447e-06 <= prior = 0.003570119923820553, likelihood = 0.1353352832366127\n",
      ".. c = ham (err = 2) => Prob = 3.571256982628971e-07 <= prior = 5.428464151779858e-06, likelihood = 0.1353352832366127\n",
      ".. c = ch (err = 2) => Prob = 3.5712852545853246e-07 <= prior = 2.714232075889929e-06, likelihood = 0.1353352832366127\n",
      ".. c = ba (err = 2) => Prob = 3.5712946786702493e-07 <= prior = 1.8094880505932859e-06, likelihood = 0.1353352832366127\n",
      ".. c = chas (err = 2) => Prob = 3.5713041028049123e-07 <= prior = 9.047440252966429e-07, likelihood = 0.1353352832366127\n",
      ".. c = ho (err = 2) => Prob = 1.7856143555601213e-06 <= prior = 8.142696227669786e-06, likelihood = 0.1353352832366127\n",
      ".. c = thou (err = 2) => Prob = 7.141835508128788e-07 <= prior = 3.7999249062459004e-05, likelihood = 0.1353352832366127\n",
      ".. c = shak (err = 2) => Prob = 3.5713041028049123e-07 <= prior = 9.047440252966429e-07, likelihood = 0.1353352832366127\n",
      ".. c = sham (err = 2) => Prob = 3.5712946786702493e-07 <= prior = 1.8094880505932859e-06, likelihood = 0.1353352832366127\n",
      ".. c = trap (err = 2) => Prob = 3.570917754064394e-07 <= prior = 3.7999249062459004e-05, likelihood = 0.1353352832366127\n",
      ".. c = tag (err = 2) => Prob = 3.5712946786702493e-07 <= prior = 1.8094880505932859e-06, likelihood = 0.1353352832366127\n",
      ".. c = who (err = 2) => Prob = 1.0628397562044028e-06 <= prior = 0.002759469277154761, likelihood = 0.1353352832366127\n",
      ".. c = oka (err = 2) => Prob = 3.5712946786702493e-07 <= prior = 1.8094880505932859e-06, likelihood = 0.1353352832366127\n",
      ".. c = h (err = 2) => Prob = 1.0711707508900038e-06 <= prior = 7.147477799843479e-05, likelihood = 0.1353352832366127\n",
      ".. c = shy (err = 2) => Prob = 3.571115629561358e-07 <= prior = 1.8999624531229502e-05, likelihood = 0.1353352832366127\n",
      ".. c = tub (err = 2) => Prob = 3.5712758305501367e-07 <= prior = 3.6189761011865717e-06, likelihood = 0.1353352832366127\n",
      ".. c = pa (err = 2) => Prob = 7.14234433889123e-07 <= prior = 1.3571160379449644e-05, likelihood = 0.1353352832366127\n",
      ".. c = they (err = 2) => Prob = 1.0603748076070037e-06 <= prior = 0.00356288197161818, likelihood = 0.1353352832366127\n",
      ".. c = til (err = 2) => Prob = 3.5712946786702493e-07 <= prior = 1.8094880505932859e-06, likelihood = 0.1353352832366127\n",
      ".. c = theah (err = 2) => Prob = 3.5713041028049123e-07 <= prior = 9.047440252966429e-07, likelihood = 0.1353352832366127\n",
      ".. c = tm (err = 2) => Prob = 3.570107635522218e-07 <= prior = 0.0001158072352379703, likelihood = 0.1353352832366127\n",
      ".. c = had (err = 2) => Prob = 1.611409565009599e-05 <= prior = 0.006679725138765115, likelihood = 0.1353352832366127\n",
      ".. c = khan (err = 2) => Prob = 3.5713041028049123e-07 <= prior = 9.047440252966429e-07, likelihood = 0.1353352832366127\n",
      ".. c = then (err = 2) => Prob = 7.113381456765159e-07 <= prior = 0.0014095911914121697, likelihood = 0.1353352832366127\n",
      ".. c = takh (err = 2) => Prob = 3.5713041028049123e-07 <= prior = 9.047440252966429e-07, likelihood = 0.1353352832366127\n",
      ".. c = tim (err = 2) => Prob = 3.5713041028049123e-07 <= prior = 9.047440252966429e-07, likelihood = 0.1353352832366127\n",
      ".. c = hi (err = 2) => Prob = 3.5712946786702493e-07 <= prior = 1.8094880505932859e-06, likelihood = 0.1353352832366127\n",
      ".. c = sea (err = 2) => Prob = 3.570540909013535e-07 <= prior = 7.418901007432472e-05, likelihood = 0.1353352832366127\n",
      ".. c = chap (err = 2) => Prob = 3.5712287111202423e-07 <= prior = 8.142696227669786e-06, likelihood = 0.1353352832366127\n",
      ".. c = tip (err = 2) => Prob = 3.57123813490675e-07 <= prior = 7.2379522023731435e-06, likelihood = 0.1353352832366127\n",
      ".. c = ha (err = 2) => Prob = 1.2854184664160395e-05 <= prior = 6.785580189724822e-05, likelihood = 0.1353352832366127\n",
      ".. c = da (err = 2) => Prob = 7.142551661100273e-07 <= prior = 3.6189761011865717e-06, likelihood = 0.1353352832366127\n",
      ".. c = tsar (err = 2) => Prob = 3.570785849248502e-07 <= prior = 5.0665665416612006e-05, likelihood = 0.1353352832366127\n",
      ".. c = this (err = 2) => Prob = 1.0600287449279611e-06 <= prior = 0.0036759749747802602, likelihood = 0.1353352832366127\n",
      ".. c = oho (err = 2) => Prob = 3.5713041028049123e-07 <= prior = 9.047440252966429e-07, likelihood = 0.1353352832366127\n",
      ".. c = at (err = 2) => Prob = 7.01688088082774e-07 <= prior = 0.006144116675789502, likelihood = 0.1353352832366127\n",
      ".. c = tom (err = 2) => Prob = 3.5712758305501367e-07 <= prior = 3.6189761011865717e-06, likelihood = 0.1353352832366127\n",
      ".. c = bah (err = 2) => Prob = 3.5712946786702493e-07 <= prior = 1.8094880505932859e-06, likelihood = 0.1353352832366127\n",
      ".. c = thaw (err = 2) => Prob = 3.5712946786702493e-07 <= prior = 1.8094880505932859e-06, likelihood = 0.1353352832366127\n",
      ".. c = utah (err = 2) => Prob = 3.571115629561358e-07 <= prior = 1.8999624531229502e-05, likelihood = 0.1353352832366127\n",
      ".. c = why (err = 2) => Prob = 1.0694918662096494e-06 <= prior = 0.0006097974730499374, likelihood = 0.1353352832366127\n",
      ".. c = boa (err = 2) => Prob = 3.5713041028049123e-07 <= prior = 9.047440252966429e-07, likelihood = 0.1353352832366127\n",
      ".. c = top (err = 2) => Prob = 3.570917754064394e-07 <= prior = 3.7999249062459004e-05, likelihood = 0.1353352832366127\n",
      ".. c = hm (err = 2) => Prob = 1.4284877149533877e-06 <= prior = 9.047440252966429e-06, likelihood = 0.1353352832366127\n",
      ".. c = eh (err = 2) => Prob = 7.14094993861401e-07 <= prior = 8.052221825140122e-05, likelihood = 0.1353352832366127\n",
      ".. c = tula (err = 2) => Prob = 3.57123813490675e-07 <= prior = 7.2379522023731435e-06, likelihood = 0.1353352832366127\n",
      ".. c = tis (err = 2) => Prob = 3.571266406564686e-07 <= prior = 4.5237201264832144e-06, likelihood = 0.1353352832366127\n",
      ".. c = ted (err = 2) => Prob = 3.5712946786702493e-07 <= prior = 1.8094880505932859e-06, likelihood = 0.1353352832366127\n",
      ".. c = tar (err = 2) => Prob = 3.5712475587429926e-07 <= prior = 6.333208177076501e-06, likelihood = 0.1353352832366127\n",
      ".. c = shah (err = 2) => Prob = 3.5713041028049123e-07 <= prior = 9.047440252966429e-07, likelihood = 0.1353352832366127\n",
      ".. c = ga (err = 2) => Prob = 3.5713041028049123e-07 <= prior = 9.047440252966429e-07, likelihood = 0.1353352832366127\n",
      ".. c = ja (err = 2) => Prob = 3.5713041028049123e-07 <= prior = 9.047440252966429e-07, likelihood = 0.1353352832366127\n",
      ".. c = tz (err = 2) => Prob = 3.5713041028049123e-07 <= prior = 9.047440252966429e-07, likelihood = 0.1353352832366127\n"
     ]
    },
    {
     "data": {
      "text/plain": [
       "'ha'"
      ]
     },
     "execution_count": 59,
     "metadata": {},
     "output_type": "execute_result"
    }
   ],
   "source": [
    "correct('tha')"
   ]
  },
  {
   "cell_type": "markdown",
   "metadata": {
    "collapsed": true
   },
   "source": [
    "We can see the best candidate for 'the' is 'ha'"
   ]
  }
 ],
 "metadata": {
  "anaconda-cloud": {},
  "kernelspec": {
   "display_name": "Python [Root]",
   "language": "python",
   "name": "Python [Root]"
  },
  "language_info": {
   "codemirror_mode": {
    "name": "ipython",
    "version": 3
   },
   "file_extension": ".py",
   "mimetype": "text/x-python",
   "name": "python",
   "nbconvert_exporter": "python",
   "pygments_lexer": "ipython3",
   "version": "3.5.2"
  }
 },
 "nbformat": 4,
 "nbformat_minor": 0
}
