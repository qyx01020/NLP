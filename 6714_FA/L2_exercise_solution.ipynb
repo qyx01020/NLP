{
 "cells": [
  {
   "cell_type": "code",
   "execution_count": 1,
   "metadata": {
    "collapsed": false
   },
   "outputs": [
    {
     "name": "stdout",
     "output_type": "stream",
     "text": [
      "[('Corpus', 'NNP'), ('linguistics', 'NNS'), ('proposes', 'VBZ'), ('that', 'IN'), ('reliable', 'JJ'), ('language', 'NN'), ('analysis', 'NN'), ('is', 'VBZ'), ('more', 'RBR'), ('feasible', 'JJ'), ('with', 'IN'), ('corpora', 'NNS'), ('collected', 'VBN'), ('in', 'IN'), ('the', 'DT'), ('field', 'NN'), (',', ','), ('in', 'IN'), ('their', 'PRP$'), ('natural', 'JJ'), ('contexts', 'NN'), (',', ','), ('and', 'CC'), ('with', 'IN'), ('minimal', 'JJ'), ('experimental-interference', 'NN'), ('.', '.')]\n"
     ]
    }
   ],
   "source": [
    "import nltk\n",
    "from nltk.corpus import wordnet\n",
    "from nltk.text import Text\n",
    "from nltk import word_tokenize # sentence => words\n",
    "from nltk import sent_tokenize # document => sentences\n",
    "\n",
    "#str1 = \"to be or not to BE? That's a question. \"\n",
    "raw1 = 'Corpus linguistics proposes that reliable language analysis is more feasible with corpora collected in the field, in their natural contexts, and with minimal experimental-interference.'\n",
    "\n",
    "tokens = word_tokenize(raw1)\n",
    "doc2 = Text(tokens)\n",
    "\n",
    "pos_tokens = nltk.pos_tag(tokens)\n",
    "print(pos_tokens)"
   ]
  },
  {
   "cell_type": "raw",
   "metadata": {},
   "source": [
    "Define the method to get pos tag for each token"
   ]
  },
  {
   "cell_type": "code",
   "execution_count": 2,
   "metadata": {
    "collapsed": true
   },
   "outputs": [],
   "source": [
    "def get_wordnet_pos(treebank_tag):\n",
    "\n",
    "    if treebank_tag.startswith('J'):\n",
    "        return wordnet.ADJ\n",
    "    elif treebank_tag.startswith('V'):\n",
    "        return wordnet.VERB\n",
    "    elif treebank_tag.startswith('N'):\n",
    "        return wordnet.NOUN\n",
    "    elif treebank_tag.startswith('R'):\n",
    "        return wordnet.ADV\n",
    "    else:\n",
    "        return 'n'\n",
    "def get_lemmatizing_sets(sets):\n",
    "    return sets"
   ]
  },
  {
   "cell_type": "raw",
   "metadata": {},
   "source": [
    "Test lemmatization considering their pos tag"
   ]
  },
  {
   "cell_type": "code",
   "execution_count": 3,
   "metadata": {
    "collapsed": false
   },
   "outputs": [
    {
     "name": "stdout",
     "output_type": "stream",
     "text": [
      "['Corpus', 'linguistics', 'propose', 'that', 'reliable', 'language', 'analysis', 'be', 'more', 'feasible', 'with', 'corpus', 'collect', 'in', 'the', 'field', ',', 'in', 'their', 'natural', 'context', ',', 'and', 'with', 'minimal', 'experimental-interference', '.']\n"
     ]
    }
   ],
   "source": [
    "wnl = nltk.WordNetLemmatizer()\n",
    "lemmatized_tokens = [wnl.lemmatize(tk[0],get_wordnet_pos(tk[1])) for tk in pos_tokens]\n",
    "print(lemmatized_tokens)"
   ]
  }
 ],
 "metadata": {
  "anaconda-cloud": {},
  "kernelspec": {
   "display_name": "Python [Root]",
   "language": "python",
   "name": "Python [Root]"
  },
  "language_info": {
   "codemirror_mode": {
    "name": "ipython",
    "version": 3
   },
   "file_extension": ".py",
   "mimetype": "text/x-python",
   "name": "python",
   "nbconvert_exporter": "python",
   "pygments_lexer": "ipython3",
   "version": "3.5.2"
  }
 },
 "nbformat": 4,
 "nbformat_minor": 0
}
